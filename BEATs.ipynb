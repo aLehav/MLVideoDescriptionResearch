{
  "nbformat": 4,
  "nbformat_minor": 0,
  "metadata": {
    "colab": {
      "provenance": [],
      "authorship_tag": "ABX9TyMIT9YYO2HKeKFt6OhjykI4",
      "include_colab_link": true
    },
    "kernelspec": {
      "name": "python3",
      "display_name": "Python 3"
    },
    "language_info": {
      "name": "python"
    },
    "gpuClass": "premium"
  },
  "cells": [
    {
      "cell_type": "markdown",
      "metadata": {
        "id": "view-in-github",
        "colab_type": "text"
      },
      "source": [
        "<a href=\"https://colab.research.google.com/github/aLehav/MLVideoDescriptionResearch/blob/main/BEATs.ipynb\" target=\"_parent\"><img src=\"https://colab.research.google.com/assets/colab-badge.svg\" alt=\"Open In Colab\"/></a>"
      ]
    },
    {
      "cell_type": "markdown",
      "source": [
        "[Link to BEATs Github](https://github.com/microsoft/unilm/tree/master/beats)\n",
        "\n",
        "[Link to AudioSet](https://ieeexplore-ieee-org.libproxy2.usc.edu/stamp/stamp.jsp?tp=&arnumber=7952261)"
      ],
      "metadata": {
        "id": "_y-nwtAKQLbE"
      }
    },
    {
      "cell_type": "code",
      "source": [
        "!pip install boto3 --quiet\n",
        "import io\n",
        "import math\n",
        "import torch\n",
        "import torchaudio\n",
        "import json\n",
        "import os\n",
        "import tarfile\n",
        "import tempfile\n",
        "import boto3\n",
        "import matplotlib.pyplot as plt\n",
        "import requests\n",
        "from botocore import UNSIGNED\n",
        "from botocore.config import Config\n",
        "from IPython.display import Audio\n",
        "!git clone https://github.com/microsoft/unilm.git --quiet\n",
        "%cd unilm/beats\n",
        "from Tokenizers import TokenizersConfig, Tokenizers\n",
        "from BEATs import BEATs, BEATsConfig\n",
        "%cd ../../\n",
        "!git clone https://github.com/audioset/ontology.git --quiet"
      ],
      "metadata": {
        "colab": {
          "base_uri": "https://localhost:8080/"
        },
        "id": "9ZcrI8RGLlBT",
        "outputId": "f963fef3-376c-4652-809d-91cf2c4b2131",
        "collapsed": true
      },
      "execution_count": 1,
      "outputs": [
        {
          "output_type": "stream",
          "name": "stdout",
          "text": [
            "\u001b[2K     \u001b[90m━━━━━━━━━━━━━━━━━━━━━━━━━━━━━━━━━━━━━━━\u001b[0m \u001b[32m132.7/132.7 KB\u001b[0m \u001b[31m1.1 MB/s\u001b[0m eta \u001b[36m0:00:00\u001b[0m\n",
            "\u001b[2K     \u001b[90m━━━━━━━━━━━━━━━━━━━━━━━━━━━━━━━━━━━━━━━━\u001b[0m \u001b[32m10.4/10.4 MB\u001b[0m \u001b[31m40.4 MB/s\u001b[0m eta \u001b[36m0:00:00\u001b[0m\n",
            "\u001b[2K     \u001b[90m━━━━━━━━━━━━━━━━━━━━━━━━━━━━━━━━━━━━━━━━\u001b[0m \u001b[32m79.6/79.6 KB\u001b[0m \u001b[31m4.8 MB/s\u001b[0m eta \u001b[36m0:00:00\u001b[0m\n",
            "\u001b[2K     \u001b[90m━━━━━━━━━━━━━━━━━━━━━━━━━━━━━━━━━━━━━━━\u001b[0m \u001b[32m140.6/140.6 KB\u001b[0m \u001b[31m2.0 MB/s\u001b[0m eta \u001b[36m0:00:00\u001b[0m\n",
            "\u001b[?25h/content/unilm/beats\n",
            "/content\n"
          ]
        }
      ]
    },
    {
      "cell_type": "code",
      "source": [
        "%cd ontology\n",
        "f = open('ontology.json')\n",
        "ontology = json.load(f)\n",
        "from google.colab import drive\n",
        "drive.mount('/content/drive', force_remount=True)\n",
        "%cd ../drive/MyDrive/video_summarization/\n",
        "!ls"
      ],
      "metadata": {
        "colab": {
          "base_uri": "https://localhost:8080/"
        },
        "id": "g3bNAj5FehXu",
        "outputId": "0c2cab46-c6b2-4a08-cb25-96d52d83bef8"
      },
      "execution_count": 2,
      "outputs": [
        {
          "output_type": "stream",
          "name": "stdout",
          "text": [
            "/content/ontology\n",
            "Mounted at /content/drive\n",
            "/content/drive/MyDrive/video_summarization\n",
            "91IHQYk1IQM.mp3\t\t\t\t\t qqR6AEXwxoQ.mp3\n",
            "91IHQYk1IQM.wav\t\t\t\t\t qqR6AEXwxoQ.wav\n",
            "BEATs_iter3_plus_AS2M_finetuned_on_AS2M_cpt2.pt  Tokenizer_iter3_plus_AS2M.pt\n",
            "BEATs_iter3_plus_AS2M.pt\n"
          ]
        }
      ]
    },
    {
      "cell_type": "code",
      "source": [
        "# print(torchaudio.info(\"qqR6AEXwxoQ.wav\"))\n",
        "meta = torchaudio.info('91IHQYk1IQM.wav')\n",
        "num_frames = meta.num_frames\n",
        "waveform, sample_rate = torchaudio.load(\"91IHQYk1IQM.wav\")\n",
        "print(waveform.shape)"
      ],
      "metadata": {
        "colab": {
          "base_uri": "https://localhost:8080/"
        },
        "id": "RIxHHrn0ZB4x",
        "outputId": "84305a01-0a2e-476e-8dbc-f43f7f6c57dc"
      },
      "execution_count": 9,
      "outputs": [
        {
          "output_type": "stream",
          "name": "stdout",
          "text": [
            "torch.Size([1, 1768432])\n"
          ]
        }
      ]
    },
    {
      "cell_type": "code",
      "source": [
        "scaler = 2*sample_rate\n",
        "i_range = range(math.ceil(num_frames/scaler))\n",
        "def bot_slice(i):\n",
        "  return i*scaler\n",
        "def top_slice(i):\n",
        "  return min((i+1)*scaler, num_frames)\n",
        "waveforms = [waveform[:,bot_slice(i):top_slice(i)] for i in i_range]\n",
        "# for wave in waveforms:\n",
        "  # print(wave.shape)"
      ],
      "metadata": {
        "id": "SBEF4Oc2hWM1"
      },
      "execution_count": 32,
      "outputs": []
    },
    {
      "cell_type": "code",
      "source": [],
      "metadata": {
        "id": "UYaBLphOkjVY"
      },
      "execution_count": null,
      "outputs": []
    },
    {
      "cell_type": "code",
      "source": [
        "audio_input_16khz = waveforms\n",
        "inputs = len(waveforms)\n",
        "length_per_input = scaler\n",
        "# print(waveform.shape[1])\n",
        "# len = audio_input_16khz.shape[1]\n",
        "padding_mask = torch.zeros(inputs,length_per_input).bool()"
      ],
      "metadata": {
        "id": "wnBlrZ83XaK4"
      },
      "execution_count": 34,
      "outputs": []
    },
    {
      "cell_type": "code",
      "source": [
        "print(len(waveforms))\n",
        "print(waveforms[0].shape[1])"
      ],
      "metadata": {
        "colab": {
          "base_uri": "https://localhost:8080/"
        },
        "id": "7cDZy8D8mM7b",
        "outputId": "04577700-9085-4fb7-e559-c2673c5d8eb4"
      },
      "execution_count": 30,
      "outputs": [
        {
          "output_type": "stream",
          "name": "stdout",
          "text": [
            "56\n",
            "torch.Size([1, 32000])\n"
          ]
        }
      ]
    },
    {
      "cell_type": "code",
      "source": [
        "# checkpoint = torch.load('Tokenizer_iter3_plus_AS2M.pt')\n",
        "# checkpoint = torch.load('BEATs_iter3_plus_AS2M.pt')\n",
        "checkpoint = torch.load('BEATs_iter3_plus_AS2M_finetuned_on_AS2M_cpt2.pt')"
      ],
      "metadata": {
        "id": "2Q5LE8fWOrlZ"
      },
      "execution_count": 24,
      "outputs": []
    },
    {
      "cell_type": "code",
      "execution_count": 37,
      "metadata": {
        "id": "Kfp6AKZpKzk-",
        "colab": {
          "base_uri": "https://localhost:8080/"
        },
        "outputId": "c9599a68-ab78-402b-ca29-80982c2e0591"
      },
      "outputs": [
        {
          "output_type": "execute_result",
          "data": {
            "text/plain": [
              "<All keys matched successfully>"
            ]
          },
          "metadata": {},
          "execution_count": 37
        }
      ],
      "source": [
        "#for fine-tuned\n",
        "cfg = BEATsConfig(checkpoint['cfg'])\n",
        "BEATs_model = BEATs(cfg)\n",
        "BEATs_model.load_state_dict(checkpoint['model'])\n",
        "# BEATs_model.eval()  "
      ]
    },
    {
      "cell_type": "code",
      "source": [
        "# probs = BEATs_model.extract_features(audio_input_16khz, padding_mask=padding_mask)[0]\n",
        "def get_top_k_labels(audio_input_16khz, k):\n",
        "  audio_length = audio_input_16khz.shape[1]\n",
        "  audio_dim = audio_input_16khz.shape[0]\n",
        "  padding_mask = torch.zeros(audio_dim,audio_length).bool()\n",
        "\n",
        "  probs = BEATs_model.extract_features(audio_input_16khz, padding_mask=padding_mask)[0]\n",
        "  for i, (top5_label_prob, top5_label_idx) in enumerate(zip(*probs.topk(k=k))):\n",
        "      top5_label = [checkpoint['label_dict'][label_idx.item()] for label_idx in top5_label_idx]\n",
        "      return (top5_label, top5_label_prob)\n",
        "labels = [get_top_k_labels(wave, 5) for wave in waveforms]\n",
        "print(labels)\n",
        "  "
      ],
      "metadata": {
        "id": "ppoMw-XMW91_",
        "colab": {
          "base_uri": "https://localhost:8080/"
        },
        "outputId": "802076a2-6cdd-4a08-b0ea-770f96f15a4e"
      },
      "execution_count": 39,
      "outputs": [
        {
          "output_type": "stream",
          "name": "stdout",
          "text": [
            "[(['/m/04rlf', '/m/07y_7', '/m/04szw', '/m/0l14_3', '/m/0ggq0m'], tensor([0.8515, 0.7388, 0.4414, 0.2063, 0.0538], grad_fn=<UnbindBackward0>)), (['/m/04rlf', '/m/04szw', '/m/02p0sh1', '/m/07y_7', '/m/0ggq0m'], tensor([0.7774, 0.2165, 0.1589, 0.1263, 0.0920], grad_fn=<UnbindBackward0>)), (['/m/0192l', '/m/04rlf', '/m/04szw', '/m/085jw', '/m/02p0sh1'], tensor([0.6407, 0.6168, 0.2061, 0.1961, 0.0951], grad_fn=<UnbindBackward0>)), (['/m/04rlf', '/m/04szw', '/m/07y_7', '/m/02p0sh1', '/m/015vgc'], tensor([0.8715, 0.3749, 0.2871, 0.2507, 0.1501], grad_fn=<UnbindBackward0>)), (['/m/04rlf', '/m/01kcd', '/m/04szw', '/m/07gql', '/m/085jw'], tensor([0.6680, 0.3672, 0.3444, 0.2263, 0.1876], grad_fn=<UnbindBackward0>)), (['/m/04rlf', '/m/04szw', '/m/07y_7', '/m/02p0sh1', '/m/0l14_3'], tensor([0.8247, 0.6134, 0.5989, 0.2725, 0.1744], grad_fn=<UnbindBackward0>)), (['/m/04rlf', '/m/02p0sh1', '/m/0192l', '/m/04szw', '/m/0ggq0m'], tensor([0.8470, 0.5004, 0.3456, 0.2542, 0.1573], grad_fn=<UnbindBackward0>)), (['/m/04rlf', '/m/04szw', '/m/07y_7', '/m/085jw', '/m/0192l'], tensor([0.8668, 0.5078, 0.2631, 0.1502, 0.1173], grad_fn=<UnbindBackward0>)), (['/m/04rlf', '/m/07gql', '/m/01kcd', '/m/04szw', '/m/07y_7'], tensor([0.5977, 0.2325, 0.2267, 0.1701, 0.1508], grad_fn=<UnbindBackward0>)), (['/m/04rlf', '/m/09x0r', '/m/04szw', '/m/07q4ntr', '/m/07p6fty'], tensor([0.9079, 0.2543, 0.0753, 0.0665, 0.0620], grad_fn=<UnbindBackward0>)), (['/m/04rlf', '/m/032s66', '/m/0_1c', '/m/0l14md', '/m/01sm1g'], tensor([0.4120, 0.2580, 0.2158, 0.1800, 0.0811], grad_fn=<UnbindBackward0>)), (['/m/09x0r', '/m/04rlf', '/m/028v0c', '/m/026t6', '/m/0l14md'], tensor([0.4192, 0.3827, 0.0796, 0.0607, 0.0518], grad_fn=<UnbindBackward0>)), (['/m/04rlf', '/m/09x0r', '/m/026t6', '/m/0bm02', '/m/0l14md'], tensor([0.6677, 0.5190, 0.1452, 0.1446, 0.1435], grad_fn=<UnbindBackward0>)), (['/m/04rlf', '/m/09x0r', '/m/026t6', '/m/0l14md', '/m/01sm1g'], tensor([0.7373, 0.5554, 0.2579, 0.2353, 0.1874], grad_fn=<UnbindBackward0>)), (['/m/04rlf', '/m/09x0r', '/m/07qnq_y', '/m/0l14md', '/m/026t6'], tensor([0.7458, 0.3923, 0.2468, 0.1869, 0.1694], grad_fn=<UnbindBackward0>)), (['/m/04rlf', '/m/0l14md', '/m/026t6', '/m/04szw', '/m/011k_j'], tensor([0.6768, 0.3108, 0.2219, 0.1590, 0.1174], grad_fn=<UnbindBackward0>)), (['/m/04rlf', '/m/0l14md', '/m/026t6', '/m/04szw', '/m/011k_j'], tensor([0.8575, 0.2521, 0.2203, 0.2107, 0.2088], grad_fn=<UnbindBackward0>)), (['/m/04rlf', '/m/026t6', '/m/0l14md', '/m/09x0r', '/m/04szw'], tensor([0.8536, 0.2830, 0.2693, 0.2393, 0.1894], grad_fn=<UnbindBackward0>)), (['/m/04rlf', '/m/0l14md', '/m/09x0r', '/m/026t6', '/m/07qnq_y'], tensor([0.7837, 0.2696, 0.1910, 0.1718, 0.1667], grad_fn=<UnbindBackward0>)), (['/m/04rlf', '/m/09x0r', '/m/028v0c', '/m/04szw', '/m/0l14md'], tensor([0.5411, 0.3832, 0.1612, 0.1210, 0.1053], grad_fn=<UnbindBackward0>)), (['/m/04rlf', '/m/07qnq_y', '/m/09x0r', '/m/03qtwd', '/m/026t6'], tensor([0.6143, 0.3728, 0.1923, 0.1443, 0.1134], grad_fn=<UnbindBackward0>)), (['/m/04rlf', '/m/09x0r', '/m/03qtwd', '/m/028v0c', '/m/04gy_2'], tensor([0.4473, 0.2610, 0.1627, 0.1344, 0.0735], grad_fn=<UnbindBackward0>)), (['/m/04rlf', '/m/0l14jd', '/m/015lz1', '/m/09x0r', '/m/07qnq_y'], tensor([0.7745, 0.5541, 0.3618, 0.2287, 0.1909], grad_fn=<UnbindBackward0>)), (['/m/04rlf', '/m/07qnq_y', '/m/09x0r', '/m/04szw', '/m/05pd6'], tensor([0.6693, 0.3412, 0.2838, 0.2492, 0.1429], grad_fn=<UnbindBackward0>)), (['/m/04rlf', '/m/09x0r', '/m/03qtwd', '/m/04szw', '/m/05pd6'], tensor([0.6546, 0.4661, 0.1389, 0.0643, 0.0595], grad_fn=<UnbindBackward0>)), (['/m/04rlf', '/m/09x0r', '/m/03qtwd', '/m/053hz1', '/t/dd00127'], tensor([0.6499, 0.3889, 0.3211, 0.2393, 0.0721], grad_fn=<UnbindBackward0>)), (['/m/04rlf', '/m/09x0r', '/m/03qtwd', '/m/053hz1', '/t/dd00135'], tensor([0.6453, 0.4166, 0.2440, 0.1334, 0.0668], grad_fn=<UnbindBackward0>)), (['/m/04rlf', '/m/09x0r', '/m/03qtwd', '/m/05pd6', '/m/0l156b'], tensor([0.7505, 0.6773, 0.1676, 0.1485, 0.0834], grad_fn=<UnbindBackward0>)), (['/m/04rlf', '/m/09x0r', '/m/03qtwd', '/m/053hz1', '/m/028v0c'], tensor([0.6190, 0.3479, 0.1695, 0.1097, 0.0505], grad_fn=<UnbindBackward0>)), (['/m/04rlf', '/m/09x0r', '/m/03qtwd', '/m/053hz1', '/t/dd00135'], tensor([0.6252, 0.4178, 0.2464, 0.1704, 0.1128], grad_fn=<UnbindBackward0>)), (['/m/04rlf', '/m/09x0r', '/m/028v0c', '/m/03qtwd', '/m/03cczk'], tensor([0.4244, 0.4079, 0.0962, 0.0688, 0.0650], grad_fn=<UnbindBackward0>)), (['/m/04rlf', '/m/09x0r', '/m/02p0sh1', '/m/04szw', '/m/0l14md'], tensor([0.7557, 0.2059, 0.1860, 0.1233, 0.1152], grad_fn=<UnbindBackward0>)), (['/m/04rlf', '/m/09x0r', '/m/028v0c', '/m/01lsmm', '/m/07yv9'], tensor([0.4169, 0.3246, 0.1298, 0.0460, 0.0405], grad_fn=<UnbindBackward0>)), (['/m/04rlf', '/m/09x0r', '/m/0l14md', '/m/028v0c', '/m/04szw'], tensor([0.4775, 0.3191, 0.1350, 0.1240, 0.1023], grad_fn=<UnbindBackward0>)), (['/m/04rlf', '/m/09x0r', '/m/0l14md', '/m/028v0c', '/m/04szw'], tensor([0.4865, 0.2251, 0.1469, 0.1274, 0.0943], grad_fn=<UnbindBackward0>)), (['/m/04rlf', '/m/09x0r', '/m/04szw', '/m/028v0c', '/m/0l14md'], tensor([0.5112, 0.4369, 0.1374, 0.1284, 0.0938], grad_fn=<UnbindBackward0>)), (['/m/04rlf', '/m/011k_j', '/m/09x0r', '/m/026t6', '/m/04szw'], tensor([0.6571, 0.2344, 0.2171, 0.1719, 0.1485], grad_fn=<UnbindBackward0>)), (['/m/04rlf', '/m/09x0r', '/m/04szw', '/m/026t6', '/m/011k_j'], tensor([0.8136, 0.4149, 0.2063, 0.1736, 0.1631], grad_fn=<UnbindBackward0>)), (['/m/04rlf', '/m/0l14md', '/m/09x0r', '/m/026t6', '/m/01sm1g'], tensor([0.5809, 0.2512, 0.2221, 0.1684, 0.1350], grad_fn=<UnbindBackward0>)), (['/m/04rlf', '/m/0l14md', '/m/09x0r', '/m/026t6', '/m/04szw'], tensor([0.6066, 0.2067, 0.1986, 0.1446, 0.1420], grad_fn=<UnbindBackward0>)), (['/m/04rlf', '/m/04szw', '/m/0l14md', '/m/026t6', '/m/09x0r'], tensor([0.7252, 0.2073, 0.1501, 0.1496, 0.1209], grad_fn=<UnbindBackward0>)), (['/m/04rlf', '/m/09x0r', '/m/0l14md', '/m/07qnq_y', '/m/026t6'], tensor([0.7847, 0.3447, 0.1828, 0.1822, 0.1674], grad_fn=<UnbindBackward0>)), (['/m/04rlf', '/m/09x0r', '/m/04szw', '/m/05pd6', '/m/011k_j'], tensor([0.5405, 0.4187, 0.1014, 0.0826, 0.0645], grad_fn=<UnbindBackward0>)), (['/m/04rlf', '/m/09x0r', '/m/0192l', '/m/04szw', '/m/085jw'], tensor([0.6409, 0.4097, 0.1665, 0.0886, 0.0766], grad_fn=<UnbindBackward0>)), (['/m/04rlf', '/m/05pd6', '/m/04szw', '/m/0ggq0m', '/m/0l14md'], tensor([0.7843, 0.5280, 0.1951, 0.1707, 0.1332], grad_fn=<UnbindBackward0>)), (['/m/04rlf', '/m/05pd6', '/m/0ggq0m', '/m/04szw', '/m/0l14md'], tensor([0.7833, 0.3211, 0.1662, 0.1193, 0.0782], grad_fn=<UnbindBackward0>)), (['/m/04rlf', '/m/09x0r', '/m/03qtwd', '/m/053hz1', '/t/dd00135'], tensor([0.6441, 0.4677, 0.1768, 0.0827, 0.0539], grad_fn=<UnbindBackward0>)), (['/m/09x0r', '/m/028v0c', '/m/0838f', '/m/04rlf', '/m/07p6mqd'], tensor([0.4764, 0.3521, 0.1342, 0.1100, 0.0930], grad_fn=<UnbindBackward0>)), (['/m/09x0r', '/m/04rlf', '/m/07yv9', '/m/034srq', '/m/019jd'], tensor([0.3341, 0.1778, 0.1474, 0.1085, 0.0859], grad_fn=<UnbindBackward0>)), (['/m/09x0r', '/m/028v0c', '/m/02x984l', '/m/07yv9', '/m/04rlf'], tensor([0.1416, 0.0907, 0.0878, 0.0847, 0.0755], grad_fn=<UnbindBackward0>)), (['/m/07yv9', '/m/02rlv9', '/m/019jd', '/m/028v0c', '/m/02x984l'], tensor([0.1901, 0.1686, 0.1461, 0.1239, 0.1163], grad_fn=<UnbindBackward0>)), (['/m/07yv9', '/m/09x0r', '/m/07jdr', '/m/01g50p', '/m/06d_3'], tensor([0.1935, 0.0912, 0.0764, 0.0740, 0.0674], grad_fn=<UnbindBackward0>)), (['/m/04rlf', '/m/07yv9', '/m/09x0r', '/m/0k4j', '/m/032s66'], tensor([0.2109, 0.1529, 0.1498, 0.0505, 0.0349], grad_fn=<UnbindBackward0>)), (['/m/04rlf', '/m/07yv9', '/m/09x0r', '/m/0k4j', '/m/032s66'], tensor([0.2109, 0.1529, 0.1498, 0.0505, 0.0349], grad_fn=<UnbindBackward0>)), (['/m/04rlf', '/m/07yv9', '/m/09x0r', '/m/0k4j', '/m/032s66'], tensor([0.2109, 0.1529, 0.1498, 0.0505, 0.0349], grad_fn=<UnbindBackward0>)), (['/m/09x0r', '/m/04rlf', '/m/07yv9', '/m/0k4j', '/m/032s66'], tensor([0.2175, 0.1949, 0.1245, 0.0405, 0.0395], grad_fn=<UnbindBackward0>))]\n"
          ]
        }
      ]
    },
    {
      "cell_type": "code",
      "source": [
        "import pandas as pd\n",
        "df = pd.DataFrame(labels)"
      ],
      "metadata": {
        "id": "EsXMjsRStXSz"
      },
      "execution_count": 40,
      "outputs": []
    },
    {
      "cell_type": "code",
      "source": [
        "top_labels = [label[1][0][0] for label in labels.iterrows()]\n",
        "print(top_labels)"
      ],
      "metadata": {
        "colab": {
          "base_uri": "https://localhost:8080/"
        },
        "id": "5yqMYpm6tey8",
        "outputId": "6198859a-c1f7-4feb-8a37-c40aca07ae7a"
      },
      "execution_count": 53,
      "outputs": [
        {
          "output_type": "stream",
          "name": "stdout",
          "text": [
            "['/m/04rlf', '/m/04rlf', '/m/0192l', '/m/04rlf', '/m/04rlf', '/m/04rlf', '/m/04rlf', '/m/04rlf', '/m/04rlf', '/m/04rlf', '/m/04rlf', '/m/09x0r', '/m/04rlf', '/m/04rlf', '/m/04rlf', '/m/04rlf', '/m/04rlf', '/m/04rlf', '/m/04rlf', '/m/04rlf', '/m/04rlf', '/m/04rlf', '/m/04rlf', '/m/04rlf', '/m/04rlf', '/m/04rlf', '/m/04rlf', '/m/04rlf', '/m/04rlf', '/m/04rlf', '/m/04rlf', '/m/04rlf', '/m/04rlf', '/m/04rlf', '/m/04rlf', '/m/04rlf', '/m/04rlf', '/m/04rlf', '/m/04rlf', '/m/04rlf', '/m/04rlf', '/m/04rlf', '/m/04rlf', '/m/04rlf', '/m/04rlf', '/m/04rlf', '/m/04rlf', '/m/09x0r', '/m/09x0r', '/m/09x0r', '/m/07yv9', '/m/07yv9', '/m/04rlf', '/m/04rlf', '/m/04rlf', '/m/09x0r']\n"
          ]
        }
      ]
    },
    {
      "cell_type": "code",
      "source": [
        "def ont_index (label):\n",
        "  return next((i for i, item in enumerate(ontology) if item['id'] == label), -1)\n",
        "english_labels = [ontology[ont_index(label)]['name'] for label in top_labels]\n",
        "print(english_labels)"
      ],
      "metadata": {
        "colab": {
          "base_uri": "https://localhost:8080/"
        },
        "id": "A1Ol4rI8vdLg",
        "outputId": "70790637-871a-4752-af5d-bf9781d74220"
      },
      "execution_count": 63,
      "outputs": [
        {
          "output_type": "stream",
          "name": "stdout",
          "text": [
            "['Music', 'Music', 'Bagpipes', 'Music', 'Music', 'Music', 'Music', 'Music', 'Music', 'Music', 'Music', 'Speech', 'Music', 'Music', 'Music', 'Music', 'Music', 'Music', 'Music', 'Music', 'Music', 'Music', 'Music', 'Music', 'Music', 'Music', 'Music', 'Music', 'Music', 'Music', 'Music', 'Music', 'Music', 'Music', 'Music', 'Music', 'Music', 'Music', 'Music', 'Music', 'Music', 'Music', 'Music', 'Music', 'Music', 'Music', 'Music', 'Speech', 'Speech', 'Speech', 'Vehicle', 'Vehicle', 'Music', 'Music', 'Music', 'Speech']\n"
          ]
        }
      ]
    }
  ]
}