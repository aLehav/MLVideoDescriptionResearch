{
  "nbformat": 4,
  "nbformat_minor": 0,
  "metadata": {
    "colab": {
      "provenance": [],
      "authorship_tag": "ABX9TyPFP9KDpukrRkUzQ2TNZzow",
      "include_colab_link": true
    },
    "kernelspec": {
      "name": "python3",
      "display_name": "Python 3"
    },
    "language_info": {
      "name": "python"
    },
    "gpuClass": "premium"
  },
  "cells": [
    {
      "cell_type": "markdown",
      "metadata": {
        "id": "view-in-github",
        "colab_type": "text"
      },
      "source": [
        "<a href=\"https://colab.research.google.com/github/aLehav/MLVideoDescriptionResearch/blob/main/BEATs.ipynb\" target=\"_parent\"><img src=\"https://colab.research.google.com/assets/colab-badge.svg\" alt=\"Open In Colab\"/></a>"
      ]
    },
    {
      "cell_type": "markdown",
      "source": [
        "[Link to BEATs Github](https://github.com/microsoft/unilm/tree/master/beats)\n",
        "\n",
        "[Link to AudioSet](https://ieeexplore-ieee-org.libproxy2.usc.edu/stamp/stamp.jsp?tp=&arnumber=7952261)"
      ],
      "metadata": {
        "id": "_y-nwtAKQLbE"
      }
    },
    {
      "cell_type": "code",
      "source": [
        "!pip install boto3 --quiet\n",
        "import io\n",
        "import pandas as pd\n",
        "import math\n",
        "import cv2\n",
        "import torch\n",
        "import torchaudio\n",
        "import json\n",
        "import os\n",
        "import tarfile\n",
        "import tempfile\n",
        "import boto3\n",
        "import matplotlib.pyplot as plt\n",
        "import requests\n",
        "from botocore import UNSIGNED\n",
        "from botocore.config import Config\n",
        "from IPython.display import Audio\n",
        "!git clone https://github.com/microsoft/unilm.git --quiet\n",
        "%cd unilm/beats\n",
        "from Tokenizers import TokenizersConfig, Tokenizers\n",
        "from BEATs import BEATs, BEATsConfig\n",
        "%cd ../../\n",
        "!git clone https://github.com/audioset/ontology.git --quiet"
      ],
      "metadata": {
        "colab": {
          "base_uri": "https://localhost:8080/"
        },
        "id": "9ZcrI8RGLlBT",
        "outputId": "0e581717-b3fc-406d-8fdd-a27943009bf8",
        "collapsed": true
      },
      "execution_count": 1,
      "outputs": [
        {
          "output_type": "stream",
          "name": "stdout",
          "text": [
            "\u001b[2K     \u001b[90m━━━━━━━━━━━━━━━━━━━━━━━━━━━━━━━━━━━━━━━\u001b[0m \u001b[32m132.7/132.7 KB\u001b[0m \u001b[31m4.4 MB/s\u001b[0m eta \u001b[36m0:00:00\u001b[0m\n",
            "\u001b[2K     \u001b[90m━━━━━━━━━━━━━━━━━━━━━━━━━━━━━━━━━━━━━━━━\u001b[0m \u001b[32m79.6/79.6 KB\u001b[0m \u001b[31m10.9 MB/s\u001b[0m eta \u001b[36m0:00:00\u001b[0m\n",
            "\u001b[2K     \u001b[90m━━━━━━━━━━━━━━━━━━━━━━━━━━━━━━━━━━━━━━━━\u001b[0m \u001b[32m10.4/10.4 MB\u001b[0m \u001b[31m82.3 MB/s\u001b[0m eta \u001b[36m0:00:00\u001b[0m\n",
            "\u001b[2K     \u001b[90m━━━━━━━━━━━━━━━━━━━━━━━━━━━━━━━━━━━━━━\u001b[0m \u001b[32m140.6/140.6 KB\u001b[0m \u001b[31m13.6 MB/s\u001b[0m eta \u001b[36m0:00:00\u001b[0m\n",
            "\u001b[?25h/content/unilm/beats\n",
            "/content\n"
          ]
        }
      ]
    },
    {
      "cell_type": "code",
      "source": [
        "%cd ontology\n",
        "f = open('ontology.json')\n",
        "ontology = json.load(f)\n",
        "from google.colab import drive\n",
        "drive.mount('/content/drive', force_remount=True)\n",
        "%cd ../drive/MyDrive/video_summarization/\n",
        "!ls"
      ],
      "metadata": {
        "colab": {
          "base_uri": "https://localhost:8080/"
        },
        "id": "g3bNAj5FehXu",
        "outputId": "c17012c7-e03d-4516-a3ba-bef4e88f338c"
      },
      "execution_count": 2,
      "outputs": [
        {
          "output_type": "stream",
          "name": "stdout",
          "text": [
            "/content/ontology\n",
            "Mounted at /content/drive\n",
            "/content/drive/MyDrive/video_summarization\n",
            "91IHQYk1IQM.mp3\t\t\t\t\t ontology\n",
            "91IHQYk1IQM.mp4\t\t\t\t\t qqR6AEXwxoQ.mp3\n",
            "91IHQYk1IQM.wav\t\t\t\t\t qqR6AEXwxoQ.wav\n",
            "BEATs_iter3_plus_AS2M_finetuned_on_AS2M_cpt2.pt  Tokenizer_iter3_plus_AS2M.pt\n",
            "BEATs_iter3_plus_AS2M.pt\t\t\t ydata-tvsum50-anno.tsv\n"
          ]
        }
      ]
    },
    {
      "cell_type": "code",
      "source": [
        "# print(torchaudio.info(\"qqR6AEXwxoQ.wav\"))\n",
        "meta = torchaudio.info('91IHQYk1IQM.wav')\n",
        "num_frames = meta.num_frames\n",
        "waveform, sample_rate = torchaudio.load(\"91IHQYk1IQM.wav\")\n",
        "print(waveform.shape)"
      ],
      "metadata": {
        "colab": {
          "base_uri": "https://localhost:8080/"
        },
        "id": "RIxHHrn0ZB4x",
        "outputId": "6e838161-17d9-4879-8793-6f40bc5ee80f"
      },
      "execution_count": 3,
      "outputs": [
        {
          "output_type": "stream",
          "name": "stdout",
          "text": [
            "torch.Size([1, 1768432])\n"
          ]
        }
      ]
    },
    {
      "cell_type": "code",
      "source": [
        "scaler = 2*sample_rate\n",
        "i_range = range(math.ceil(num_frames/scaler))\n",
        "def bot_slice(i):\n",
        "  return i*scaler\n",
        "def top_slice(i):\n",
        "  return min((i+1)*scaler, num_frames)\n",
        "waveforms = [waveform[:,bot_slice(i):top_slice(i)] for i in i_range]\n",
        "# for wave in waveforms:\n",
        "  # print(wave.shape)"
      ],
      "metadata": {
        "id": "SBEF4Oc2hWM1"
      },
      "execution_count": 4,
      "outputs": []
    },
    {
      "cell_type": "code",
      "source": [
        "audio_input_16khz = waveforms\n",
        "inputs = len(waveforms)\n",
        "length_per_input = scaler\n",
        "# print(waveform.shape[1])\n",
        "# len = audio_input_16khz.shape[1]\n",
        "padding_mask = torch.zeros(inputs,length_per_input).bool()"
      ],
      "metadata": {
        "id": "wnBlrZ83XaK4"
      },
      "execution_count": 5,
      "outputs": []
    },
    {
      "cell_type": "code",
      "source": [
        "print(len(waveforms))\n",
        "print(waveforms[0].shape[1])"
      ],
      "metadata": {
        "colab": {
          "base_uri": "https://localhost:8080/"
        },
        "id": "7cDZy8D8mM7b",
        "outputId": "16686e85-e7b8-42ad-9a9d-04db2ef77ad2"
      },
      "execution_count": 6,
      "outputs": [
        {
          "output_type": "stream",
          "name": "stdout",
          "text": [
            "56\n",
            "32000\n"
          ]
        }
      ]
    },
    {
      "cell_type": "code",
      "source": [
        "# checkpoint = torch.load('Tokenizer_iter3_plus_AS2M.pt')\n",
        "# checkpoint = torch.load('BEATs_iter3_plus_AS2M.pt')\n",
        "checkpoint = torch.load('BEATs_iter3_plus_AS2M_finetuned_on_AS2M_cpt2.pt')"
      ],
      "metadata": {
        "id": "2Q5LE8fWOrlZ"
      },
      "execution_count": 7,
      "outputs": []
    },
    {
      "cell_type": "code",
      "execution_count": 8,
      "metadata": {
        "id": "Kfp6AKZpKzk-",
        "colab": {
          "base_uri": "https://localhost:8080/"
        },
        "outputId": "68335840-51da-41f5-f9a7-2159c998d496"
      },
      "outputs": [
        {
          "output_type": "execute_result",
          "data": {
            "text/plain": [
              "<All keys matched successfully>"
            ]
          },
          "metadata": {},
          "execution_count": 8
        }
      ],
      "source": [
        "#for fine-tuned\n",
        "cfg = BEATsConfig(checkpoint['cfg'])\n",
        "BEATs_model = BEATs(cfg)\n",
        "BEATs_model.load_state_dict(checkpoint['model'])\n",
        "# BEATs_model.eval()  "
      ]
    },
    {
      "cell_type": "code",
      "source": [
        "# probs = BEATs_model.extract_features(audio_input_16khz, padding_mask=padding_mask)[0]\n",
        "def get_top_k_labels(audio_input_16khz, k):\n",
        "  audio_length = audio_input_16khz.shape[1]\n",
        "  audio_dim = audio_input_16khz.shape[0]\n",
        "  padding_mask = torch.zeros(audio_dim,audio_length).bool()\n",
        "\n",
        "  probs = BEATs_model.extract_features(audio_input_16khz, padding_mask=padding_mask)[0]\n",
        "  for i, (top5_label_prob, top5_label_idx) in enumerate(zip(*probs.topk(k=k))):\n",
        "      top5_label = [checkpoint['label_dict'][label_idx.item()] for label_idx in top5_label_idx]\n",
        "      return (top5_label, top5_label_prob)\n",
        "labels = [get_top_k_labels(wave, 5) for wave in waveforms]\n",
        "print(labels)\n",
        "  "
      ],
      "metadata": {
        "id": "ppoMw-XMW91_",
        "colab": {
          "base_uri": "https://localhost:8080/"
        },
        "outputId": "b26c5f0a-0507-4532-a468-6ddc369826c6"
      },
      "execution_count": 9,
      "outputs": [
        {
          "output_type": "stream",
          "name": "stdout",
          "text": [
            "[(['/m/04rlf', '/m/07y_7', '/m/04szw', '/m/0l14_3', '/m/0ggq0m'], tensor([0.8434, 0.4537, 0.2909, 0.1306, 0.0477], grad_fn=<UnbindBackward0>)), (['/m/04rlf', '/m/04szw', '/m/02p0sh1', '/m/07y_7', '/m/0ggq0m'], tensor([0.7971, 0.2541, 0.1872, 0.1700, 0.1124], grad_fn=<UnbindBackward0>)), (['/m/04rlf', '/m/0192l', '/m/04szw', '/m/085jw', '/m/09x0r'], tensor([0.5657, 0.3333, 0.1807, 0.1337, 0.0740], grad_fn=<UnbindBackward0>)), (['/m/04rlf', '/m/04szw', '/m/07y_7', '/m/02p0sh1', '/m/015vgc'], tensor([0.8818, 0.4012, 0.2938, 0.2343, 0.2293], grad_fn=<UnbindBackward0>)), (['/m/04rlf', '/m/01kcd', '/m/04szw', '/m/07gql', '/m/01wy6'], tensor([0.7175, 0.3785, 0.3156, 0.2911, 0.1428], grad_fn=<UnbindBackward0>)), (['/m/04rlf', '/m/07y_7', '/m/04szw', '/m/0ggq0m', '/m/0l14_3'], tensor([0.8274, 0.6584, 0.5081, 0.1491, 0.1158], grad_fn=<UnbindBackward0>)), (['/m/04rlf', '/m/0192l', '/m/02p0sh1', '/m/04szw', '/m/085jw'], tensor([0.7876, 0.4536, 0.4494, 0.1504, 0.1416], grad_fn=<UnbindBackward0>)), (['/m/04rlf', '/m/04szw', '/m/07gql', '/m/02p0sh1', '/m/01kcd'], tensor([0.7744, 0.3987, 0.1811, 0.1593, 0.1541], grad_fn=<UnbindBackward0>)), (['/m/04rlf', '/m/085jw', '/m/04szw', '/m/09x0r', '/m/07gql'], tensor([0.5963, 0.2921, 0.2093, 0.1219, 0.1116], grad_fn=<UnbindBackward0>)), (['/m/04rlf', '/m/09x0r', '/m/015lz1', '/m/07p6fty', '/m/04szw'], tensor([0.7008, 0.2292, 0.1296, 0.0839, 0.0585], grad_fn=<UnbindBackward0>)), (['/m/04rlf', '/m/032s66', '/m/0_1c', '/m/0l14md', '/m/01sm1g'], tensor([0.4120, 0.2580, 0.2158, 0.1800, 0.0811], grad_fn=<UnbindBackward0>)), (['/m/09x0r', '/m/04rlf', '/m/0l14md', '/m/026t6', '/m/028v0c'], tensor([0.4185, 0.3729, 0.0577, 0.0570, 0.0569], grad_fn=<UnbindBackward0>)), (['/m/04rlf', '/m/09x0r', '/m/03qtwd', '/m/026t6', '/m/0bm02'], tensor([0.5645, 0.5576, 0.0833, 0.0788, 0.0740], grad_fn=<UnbindBackward0>)), (['/m/04rlf', '/m/09x0r', '/m/026t6', '/m/0l14md', '/m/04szw'], tensor([0.7711, 0.4998, 0.2651, 0.2548, 0.1473], grad_fn=<UnbindBackward0>)), (['/m/04rlf', '/m/09x0r', '/m/0l14md', '/m/011k_j', '/m/04szw'], tensor([0.7442, 0.3248, 0.2315, 0.1813, 0.1788], grad_fn=<UnbindBackward0>)), (['/m/04rlf', '/m/0l14md', '/m/026t6', '/m/04szw', '/m/011k_j'], tensor([0.6768, 0.3108, 0.2219, 0.1590, 0.1174], grad_fn=<UnbindBackward0>)), (['/m/04rlf', '/m/0l14md', '/m/026t6', '/m/01sm1g', '/m/07qnq_y'], tensor([0.8394, 0.3950, 0.3329, 0.2868, 0.2593], grad_fn=<UnbindBackward0>)), (['/m/04rlf', '/m/011k_j', '/m/09x0r', '/m/0l14md', '/m/026t6'], tensor([0.8457, 0.2172, 0.2147, 0.1794, 0.1779], grad_fn=<UnbindBackward0>)), (['/m/04rlf', '/m/0l14md', '/m/026t6', '/m/09x0r', '/m/04szw'], tensor([0.7589, 0.2791, 0.1877, 0.1664, 0.1476], grad_fn=<UnbindBackward0>)), (['/m/04rlf', '/m/09x0r', '/m/04szw', '/m/011k_j', '/m/026t6'], tensor([0.6777, 0.4059, 0.2256, 0.1816, 0.1597], grad_fn=<UnbindBackward0>)), (['/m/04rlf', '/m/09x0r', '/m/028v0c', '/m/03qtwd', '/m/04szw'], tensor([0.4838, 0.2407, 0.1358, 0.1152, 0.0536], grad_fn=<UnbindBackward0>)), (['/m/04rlf', '/m/09x0r', '/m/03qtwd', '/m/028v0c', '/m/04gy_2'], tensor([0.4473, 0.2610, 0.1627, 0.1344, 0.0735], grad_fn=<UnbindBackward0>)), (['/m/04rlf', '/m/0l14jd', '/m/015lz1', '/m/09x0r', '/m/011k_j'], tensor([0.6942, 0.3872, 0.2268, 0.2010, 0.1353], grad_fn=<UnbindBackward0>)), (['/m/04rlf', '/m/07qnq_y', '/m/09x0r', '/m/04szw', '/m/05pd6'], tensor([0.6693, 0.3412, 0.2838, 0.2492, 0.1429], grad_fn=<UnbindBackward0>)), (['/m/04rlf', '/m/09x0r', '/m/03qtwd', '/m/04szw', '/m/05pd6'], tensor([0.6596, 0.4573, 0.1099, 0.0709, 0.0657], grad_fn=<UnbindBackward0>)), (['/m/04rlf', '/m/09x0r', '/m/03qtwd', '/m/053hz1', '/t/dd00135'], tensor([0.6337, 0.3246, 0.2991, 0.2497, 0.0568], grad_fn=<UnbindBackward0>)), (['/m/04rlf', '/m/09x0r', '/m/03qtwd', '/m/053hz1', '/t/dd00135'], tensor([0.6453, 0.4166, 0.2440, 0.1334, 0.0668], grad_fn=<UnbindBackward0>)), (['/m/04rlf', '/m/09x0r', '/m/03qtwd', '/m/0l156b', '/m/05pd6'], tensor([0.6885, 0.6204, 0.2095, 0.1403, 0.0753], grad_fn=<UnbindBackward0>)), (['/m/04rlf', '/m/09x0r', '/m/03qtwd', '/m/053hz1', '/m/028v0c'], tensor([0.6190, 0.3479, 0.1695, 0.1097, 0.0505], grad_fn=<UnbindBackward0>)), (['/m/04rlf', '/m/09x0r', '/m/028v0c', '/m/03qtwd', '/m/053hz1'], tensor([0.5387, 0.3617, 0.2790, 0.1523, 0.0909], grad_fn=<UnbindBackward0>)), (['/m/04rlf', '/m/09x0r', '/m/028v0c', '/m/01lsmm', '/m/03qtwd'], tensor([0.4214, 0.3582, 0.2016, 0.0555, 0.0515], grad_fn=<UnbindBackward0>)), (['/m/04rlf', '/m/09x0r', '/m/04szw', '/m/028v0c', '/m/02p0sh1'], tensor([0.5836, 0.2602, 0.0758, 0.0700, 0.0681], grad_fn=<UnbindBackward0>)), (['/m/04rlf', '/m/09x0r', '/m/028v0c', '/m/01lsmm', '/m/07yv9'], tensor([0.4169, 0.3246, 0.1298, 0.0460, 0.0405], grad_fn=<UnbindBackward0>)), (['/m/04rlf', '/m/09x0r', '/m/04szw', '/m/0l14md', '/m/026t6'], tensor([0.5848, 0.3856, 0.2101, 0.1560, 0.1108], grad_fn=<UnbindBackward0>)), (['/m/04rlf', '/m/09x0r', '/m/0l14md', '/m/028v0c', '/m/04szw'], tensor([0.4701, 0.2635, 0.1289, 0.1019, 0.0950], grad_fn=<UnbindBackward0>)), (['/m/04rlf', '/m/09x0r', '/m/011k_j', '/m/0l14md', '/m/04szw'], tensor([0.6732, 0.5210, 0.3622, 0.1994, 0.1886], grad_fn=<UnbindBackward0>)), (['/m/04rlf', '/m/011k_j', '/m/09x0r', '/m/026t6', '/m/04szw'], tensor([0.6571, 0.2344, 0.2171, 0.1719, 0.1485], grad_fn=<UnbindBackward0>)), (['/m/04rlf', '/m/09x0r', '/m/04szw', '/m/026t6', '/m/011k_j'], tensor([0.8136, 0.4149, 0.2063, 0.1736, 0.1631], grad_fn=<UnbindBackward0>)), (['/m/04rlf', '/m/0l14md', '/m/09x0r', '/m/026t6', '/m/01sm1g'], tensor([0.5699, 0.2469, 0.2262, 0.1803, 0.1442], grad_fn=<UnbindBackward0>)), (['/m/04rlf', '/m/0l14md', '/m/026t6', '/m/04szw', '/m/09x0r'], tensor([0.7481, 0.2450, 0.1784, 0.1673, 0.1665], grad_fn=<UnbindBackward0>)), (['/m/04rlf', '/m/028v0c', '/m/04szw', '/m/09x0r', '/m/05pd6'], tensor([0.6634, 0.2200, 0.2063, 0.1344, 0.1239], grad_fn=<UnbindBackward0>)), (['/m/04rlf', '/m/09x0r', '/m/0l14md', '/m/07qnq_y', '/m/026t6'], tensor([0.7560, 0.3215, 0.1696, 0.1583, 0.1078], grad_fn=<UnbindBackward0>)), (['/m/04rlf', '/m/09x0r', '/m/028v0c', '/m/011k_j', '/m/04szw'], tensor([0.4750, 0.4146, 0.0729, 0.0691, 0.0516], grad_fn=<UnbindBackward0>)), (['/m/04rlf', '/m/09x0r', '/m/04szw', '/m/0192l', '/m/028v0c'], tensor([0.6133, 0.3798, 0.0905, 0.0747, 0.0649], grad_fn=<UnbindBackward0>)), (['/m/04rlf', '/m/05pd6', '/m/011k_j', '/m/0l14md', '/m/04szw'], tensor([0.7559, 0.3455, 0.2706, 0.1450, 0.1372], grad_fn=<UnbindBackward0>)), (['/m/04rlf', '/m/05pd6', '/m/0ggq0m', '/m/04szw', '/m/0l14md'], tensor([0.8043, 0.4209, 0.1950, 0.1202, 0.0524], grad_fn=<UnbindBackward0>)), (['/m/04rlf', '/m/09x0r', '/m/028v0c', '/m/03qtwd', '/m/04szw'], tensor([0.6015, 0.4901, 0.1201, 0.0890, 0.0417], grad_fn=<UnbindBackward0>)), (['/m/09x0r', '/m/028v0c', '/m/0838f', '/m/04rlf', '/m/07p6mqd'], tensor([0.4764, 0.3521, 0.1342, 0.1100, 0.0930], grad_fn=<UnbindBackward0>)), (['/m/09x0r', '/m/07yv9', '/m/04rlf', '/m/028v0c', '/m/019jd'], tensor([0.4117, 0.1594, 0.1497, 0.0942, 0.0941], grad_fn=<UnbindBackward0>)), (['/m/09x0r', '/m/028v0c', '/m/02x984l', '/m/07yv9', '/m/04rlf'], tensor([0.1416, 0.0907, 0.0878, 0.0847, 0.0755], grad_fn=<UnbindBackward0>)), (['/m/07yv9', '/m/02rlv9', '/m/019jd', '/m/028v0c', '/m/02x984l'], tensor([0.1901, 0.1686, 0.1461, 0.1239, 0.1163], grad_fn=<UnbindBackward0>)), (['/m/07yv9', '/m/09x0r', '/m/07jdr', '/m/01g50p', '/m/07k1x'], tensor([0.1341, 0.0798, 0.0458, 0.0435, 0.0410], grad_fn=<UnbindBackward0>)), (['/m/04rlf', '/m/09x0r', '/m/07r5c2p', '/m/0jbk', '/m/07yv9'], tensor([0.3177, 0.1292, 0.0698, 0.0657, 0.0544], grad_fn=<UnbindBackward0>)), (['/m/09x0r', '/m/04rlf', '/m/028v0c', '/m/068hy', '/m/0jbk'], tensor([0.1768, 0.1192, 0.0775, 0.0580, 0.0505], grad_fn=<UnbindBackward0>)), (['/m/07yv9', '/m/04rlf', '/m/09x0r', '/m/0jbk', '/m/015p6'], tensor([0.1225, 0.1198, 0.1035, 0.0641, 0.0424], grad_fn=<UnbindBackward0>)), (['/m/09x0r', '/m/04rlf', '/m/07yv9', '/m/0k4j', '/m/032s66'], tensor([0.2175, 0.1949, 0.1245, 0.0405, 0.0395], grad_fn=<UnbindBackward0>))]\n"
          ]
        }
      ]
    },
    {
      "cell_type": "code",
      "source": [
        "label_set = [label[0] for label in labels]\n",
        "def ont_index (label):\n",
        "  return next((i for i, item in enumerate(ontology) if item['id'] == label), -1)\n",
        "a = lambda x: [ontology[ont_index(i)]['name'] for i in x]\n",
        "english_label_set = [a(label) for label in label_set]\n",
        "df = pd.DataFrame(english_label_set)\n",
        "df"
      ],
      "metadata": {
        "id": "EsXMjsRStXSz",
        "colab": {
          "base_uri": "https://localhost:8080/",
          "height": 1000
        },
        "outputId": "51cc112c-5ad4-4eb5-b2d0-40acd00b13ad"
      },
      "execution_count": 10,
      "outputs": [
        {
          "output_type": "execute_result",
          "data": {
            "text/plain": [
              "          0                                     1                    2  \\\n",
              "0     Music                        Violin, fiddle   Musical instrument   \n",
              "1     Music                    Musical instrument    Traditional music   \n",
              "2     Music                              Bagpipes   Musical instrument   \n",
              "3     Music                    Musical instrument       Violin, fiddle   \n",
              "4     Music                      Brass instrument   Musical instrument   \n",
              "5     Music                        Violin, fiddle   Musical instrument   \n",
              "6     Music                              Bagpipes    Traditional music   \n",
              "7     Music                    Musical instrument              Trumpet   \n",
              "8     Music  Wind instrument, woodwind instrument   Musical instrument   \n",
              "9     Music                                Speech              Singing   \n",
              "10    Music                      Gunshot, gunfire       Artillery fire   \n",
              "11   Speech                                 Music           Percussion   \n",
              "12    Music                                Speech                Crowd   \n",
              "13    Music                                Speech                 Drum   \n",
              "14    Music                                Speech           Percussion   \n",
              "15    Music                            Percussion                 Drum   \n",
              "16    Music                            Percussion                 Drum   \n",
              "17    Music                               Timpani               Speech   \n",
              "18    Music                            Percussion                 Drum   \n",
              "19    Music                                Speech   Musical instrument   \n",
              "20    Music                                Speech              Silence   \n",
              "21    Music                                Speech                Crowd   \n",
              "22    Music                                 Choir              Singing   \n",
              "23    Music                           Thump, thud               Speech   \n",
              "24    Music                                Speech                Crowd   \n",
              "25    Music                                Speech                Crowd   \n",
              "26    Music                                Speech                Crowd   \n",
              "27    Music                                Speech                Crowd   \n",
              "28    Music                                Speech                Crowd   \n",
              "29    Music                                Speech              Silence   \n",
              "30    Music                                Speech              Silence   \n",
              "31    Music                                Speech   Musical instrument   \n",
              "32    Music                                Speech              Silence   \n",
              "33    Music                                Speech   Musical instrument   \n",
              "34    Music                                Speech           Percussion   \n",
              "35    Music                                Speech              Timpani   \n",
              "36    Music                               Timpani               Speech   \n",
              "37    Music                                Speech   Musical instrument   \n",
              "38    Music                            Percussion               Speech   \n",
              "39    Music                            Percussion                 Drum   \n",
              "40    Music                               Silence   Musical instrument   \n",
              "41    Music                                Speech           Percussion   \n",
              "42    Music                                Speech              Silence   \n",
              "43    Music                                Speech   Musical instrument   \n",
              "44    Music                             Orchestra              Timpani   \n",
              "45    Music                             Orchestra      Classical music   \n",
              "46    Music                                Speech              Silence   \n",
              "47   Speech                               Silence                Water   \n",
              "48   Speech                               Vehicle                Music   \n",
              "49   Speech                               Silence       Mechanical fan   \n",
              "50  Vehicle                  Motorboat, speedboat  Boat, Water vehicle   \n",
              "51  Vehicle                                Speech                Train   \n",
              "52    Music                                Speech                  Caw   \n",
              "53   Speech                                 Music              Silence   \n",
              "54  Vehicle                                 Music               Speech   \n",
              "55   Speech                                 Music              Vehicle   \n",
              "\n",
              "                                       3                                     4  \n",
              "0                Bowed string instrument                       Classical music  \n",
              "1                         Violin, fiddle                       Classical music  \n",
              "2   Wind instrument, woodwind instrument                                Speech  \n",
              "3                      Traditional music                        Carnatic music  \n",
              "4                                Trumpet                              Clarinet  \n",
              "5                        Classical music               Bowed string instrument  \n",
              "6                     Musical instrument  Wind instrument, woodwind instrument  \n",
              "7                      Traditional music                      Brass instrument  \n",
              "8                                 Speech                               Trumpet  \n",
              "9                                  Shout                    Musical instrument  \n",
              "10                            Percussion                            Wood block  \n",
              "11                                  Drum                               Silence  \n",
              "12                                  Drum                             Bass drum  \n",
              "13                            Percussion                    Musical instrument  \n",
              "14                               Timpani                    Musical instrument  \n",
              "15                    Musical instrument                               Timpani  \n",
              "16                            Wood block                           Thump, thud  \n",
              "17                            Percussion                                  Drum  \n",
              "18                                Speech                    Musical instrument  \n",
              "19                               Timpani                                  Drum  \n",
              "20                                 Crowd                    Musical instrument  \n",
              "21                               Silence                            Battle cry  \n",
              "22                                Speech                               Timpani  \n",
              "23                    Musical instrument                             Orchestra  \n",
              "24                    Musical instrument                             Orchestra  \n",
              "25                              Cheering                     Children shouting  \n",
              "26                              Cheering                     Children shouting  \n",
              "27                              Steelpan                             Orchestra  \n",
              "28                              Cheering                               Silence  \n",
              "29                                 Crowd                              Cheering  \n",
              "30                              Scissors                                 Crowd  \n",
              "31                               Silence                     Traditional music  \n",
              "32                              Scissors                               Vehicle  \n",
              "33                            Percussion                                  Drum  \n",
              "34                               Silence                    Musical instrument  \n",
              "35                            Percussion                    Musical instrument  \n",
              "36                                  Drum                    Musical instrument  \n",
              "37                                  Drum                               Timpani  \n",
              "38                                  Drum                            Wood block  \n",
              "39                    Musical instrument                                Speech  \n",
              "40                                Speech                             Orchestra  \n",
              "41                           Thump, thud                                  Drum  \n",
              "42                               Timpani                    Musical instrument  \n",
              "43                              Bagpipes                               Silence  \n",
              "44                            Percussion                    Musical instrument  \n",
              "45                    Musical instrument                            Percussion  \n",
              "46                                 Crowd                    Musical instrument  \n",
              "47                                 Music                                 Slosh  \n",
              "48                               Silence                   Boat, Water vehicle  \n",
              "49                               Vehicle                                 Music  \n",
              "50                               Silence                        Mechanical fan  \n",
              "51             Railroad car, train wagon                                 Tools  \n",
              "52                                Animal                               Vehicle  \n",
              "53                Domestic animals, pets                                Animal  \n",
              "54                                Animal                                  Bird  \n",
              "55                                   Car                      Gunshot, gunfire  "
            ],
            "text/html": [
              "\n",
              "  <div id=\"df-4e9eccd3-6098-4eaa-bf06-e69a7bea3215\">\n",
              "    <div class=\"colab-df-container\">\n",
              "      <div>\n",
              "<style scoped>\n",
              "    .dataframe tbody tr th:only-of-type {\n",
              "        vertical-align: middle;\n",
              "    }\n",
              "\n",
              "    .dataframe tbody tr th {\n",
              "        vertical-align: top;\n",
              "    }\n",
              "\n",
              "    .dataframe thead th {\n",
              "        text-align: right;\n",
              "    }\n",
              "</style>\n",
              "<table border=\"1\" class=\"dataframe\">\n",
              "  <thead>\n",
              "    <tr style=\"text-align: right;\">\n",
              "      <th></th>\n",
              "      <th>0</th>\n",
              "      <th>1</th>\n",
              "      <th>2</th>\n",
              "      <th>3</th>\n",
              "      <th>4</th>\n",
              "    </tr>\n",
              "  </thead>\n",
              "  <tbody>\n",
              "    <tr>\n",
              "      <th>0</th>\n",
              "      <td>Music</td>\n",
              "      <td>Violin, fiddle</td>\n",
              "      <td>Musical instrument</td>\n",
              "      <td>Bowed string instrument</td>\n",
              "      <td>Classical music</td>\n",
              "    </tr>\n",
              "    <tr>\n",
              "      <th>1</th>\n",
              "      <td>Music</td>\n",
              "      <td>Musical instrument</td>\n",
              "      <td>Traditional music</td>\n",
              "      <td>Violin, fiddle</td>\n",
              "      <td>Classical music</td>\n",
              "    </tr>\n",
              "    <tr>\n",
              "      <th>2</th>\n",
              "      <td>Music</td>\n",
              "      <td>Bagpipes</td>\n",
              "      <td>Musical instrument</td>\n",
              "      <td>Wind instrument, woodwind instrument</td>\n",
              "      <td>Speech</td>\n",
              "    </tr>\n",
              "    <tr>\n",
              "      <th>3</th>\n",
              "      <td>Music</td>\n",
              "      <td>Musical instrument</td>\n",
              "      <td>Violin, fiddle</td>\n",
              "      <td>Traditional music</td>\n",
              "      <td>Carnatic music</td>\n",
              "    </tr>\n",
              "    <tr>\n",
              "      <th>4</th>\n",
              "      <td>Music</td>\n",
              "      <td>Brass instrument</td>\n",
              "      <td>Musical instrument</td>\n",
              "      <td>Trumpet</td>\n",
              "      <td>Clarinet</td>\n",
              "    </tr>\n",
              "    <tr>\n",
              "      <th>5</th>\n",
              "      <td>Music</td>\n",
              "      <td>Violin, fiddle</td>\n",
              "      <td>Musical instrument</td>\n",
              "      <td>Classical music</td>\n",
              "      <td>Bowed string instrument</td>\n",
              "    </tr>\n",
              "    <tr>\n",
              "      <th>6</th>\n",
              "      <td>Music</td>\n",
              "      <td>Bagpipes</td>\n",
              "      <td>Traditional music</td>\n",
              "      <td>Musical instrument</td>\n",
              "      <td>Wind instrument, woodwind instrument</td>\n",
              "    </tr>\n",
              "    <tr>\n",
              "      <th>7</th>\n",
              "      <td>Music</td>\n",
              "      <td>Musical instrument</td>\n",
              "      <td>Trumpet</td>\n",
              "      <td>Traditional music</td>\n",
              "      <td>Brass instrument</td>\n",
              "    </tr>\n",
              "    <tr>\n",
              "      <th>8</th>\n",
              "      <td>Music</td>\n",
              "      <td>Wind instrument, woodwind instrument</td>\n",
              "      <td>Musical instrument</td>\n",
              "      <td>Speech</td>\n",
              "      <td>Trumpet</td>\n",
              "    </tr>\n",
              "    <tr>\n",
              "      <th>9</th>\n",
              "      <td>Music</td>\n",
              "      <td>Speech</td>\n",
              "      <td>Singing</td>\n",
              "      <td>Shout</td>\n",
              "      <td>Musical instrument</td>\n",
              "    </tr>\n",
              "    <tr>\n",
              "      <th>10</th>\n",
              "      <td>Music</td>\n",
              "      <td>Gunshot, gunfire</td>\n",
              "      <td>Artillery fire</td>\n",
              "      <td>Percussion</td>\n",
              "      <td>Wood block</td>\n",
              "    </tr>\n",
              "    <tr>\n",
              "      <th>11</th>\n",
              "      <td>Speech</td>\n",
              "      <td>Music</td>\n",
              "      <td>Percussion</td>\n",
              "      <td>Drum</td>\n",
              "      <td>Silence</td>\n",
              "    </tr>\n",
              "    <tr>\n",
              "      <th>12</th>\n",
              "      <td>Music</td>\n",
              "      <td>Speech</td>\n",
              "      <td>Crowd</td>\n",
              "      <td>Drum</td>\n",
              "      <td>Bass drum</td>\n",
              "    </tr>\n",
              "    <tr>\n",
              "      <th>13</th>\n",
              "      <td>Music</td>\n",
              "      <td>Speech</td>\n",
              "      <td>Drum</td>\n",
              "      <td>Percussion</td>\n",
              "      <td>Musical instrument</td>\n",
              "    </tr>\n",
              "    <tr>\n",
              "      <th>14</th>\n",
              "      <td>Music</td>\n",
              "      <td>Speech</td>\n",
              "      <td>Percussion</td>\n",
              "      <td>Timpani</td>\n",
              "      <td>Musical instrument</td>\n",
              "    </tr>\n",
              "    <tr>\n",
              "      <th>15</th>\n",
              "      <td>Music</td>\n",
              "      <td>Percussion</td>\n",
              "      <td>Drum</td>\n",
              "      <td>Musical instrument</td>\n",
              "      <td>Timpani</td>\n",
              "    </tr>\n",
              "    <tr>\n",
              "      <th>16</th>\n",
              "      <td>Music</td>\n",
              "      <td>Percussion</td>\n",
              "      <td>Drum</td>\n",
              "      <td>Wood block</td>\n",
              "      <td>Thump, thud</td>\n",
              "    </tr>\n",
              "    <tr>\n",
              "      <th>17</th>\n",
              "      <td>Music</td>\n",
              "      <td>Timpani</td>\n",
              "      <td>Speech</td>\n",
              "      <td>Percussion</td>\n",
              "      <td>Drum</td>\n",
              "    </tr>\n",
              "    <tr>\n",
              "      <th>18</th>\n",
              "      <td>Music</td>\n",
              "      <td>Percussion</td>\n",
              "      <td>Drum</td>\n",
              "      <td>Speech</td>\n",
              "      <td>Musical instrument</td>\n",
              "    </tr>\n",
              "    <tr>\n",
              "      <th>19</th>\n",
              "      <td>Music</td>\n",
              "      <td>Speech</td>\n",
              "      <td>Musical instrument</td>\n",
              "      <td>Timpani</td>\n",
              "      <td>Drum</td>\n",
              "    </tr>\n",
              "    <tr>\n",
              "      <th>20</th>\n",
              "      <td>Music</td>\n",
              "      <td>Speech</td>\n",
              "      <td>Silence</td>\n",
              "      <td>Crowd</td>\n",
              "      <td>Musical instrument</td>\n",
              "    </tr>\n",
              "    <tr>\n",
              "      <th>21</th>\n",
              "      <td>Music</td>\n",
              "      <td>Speech</td>\n",
              "      <td>Crowd</td>\n",
              "      <td>Silence</td>\n",
              "      <td>Battle cry</td>\n",
              "    </tr>\n",
              "    <tr>\n",
              "      <th>22</th>\n",
              "      <td>Music</td>\n",
              "      <td>Choir</td>\n",
              "      <td>Singing</td>\n",
              "      <td>Speech</td>\n",
              "      <td>Timpani</td>\n",
              "    </tr>\n",
              "    <tr>\n",
              "      <th>23</th>\n",
              "      <td>Music</td>\n",
              "      <td>Thump, thud</td>\n",
              "      <td>Speech</td>\n",
              "      <td>Musical instrument</td>\n",
              "      <td>Orchestra</td>\n",
              "    </tr>\n",
              "    <tr>\n",
              "      <th>24</th>\n",
              "      <td>Music</td>\n",
              "      <td>Speech</td>\n",
              "      <td>Crowd</td>\n",
              "      <td>Musical instrument</td>\n",
              "      <td>Orchestra</td>\n",
              "    </tr>\n",
              "    <tr>\n",
              "      <th>25</th>\n",
              "      <td>Music</td>\n",
              "      <td>Speech</td>\n",
              "      <td>Crowd</td>\n",
              "      <td>Cheering</td>\n",
              "      <td>Children shouting</td>\n",
              "    </tr>\n",
              "    <tr>\n",
              "      <th>26</th>\n",
              "      <td>Music</td>\n",
              "      <td>Speech</td>\n",
              "      <td>Crowd</td>\n",
              "      <td>Cheering</td>\n",
              "      <td>Children shouting</td>\n",
              "    </tr>\n",
              "    <tr>\n",
              "      <th>27</th>\n",
              "      <td>Music</td>\n",
              "      <td>Speech</td>\n",
              "      <td>Crowd</td>\n",
              "      <td>Steelpan</td>\n",
              "      <td>Orchestra</td>\n",
              "    </tr>\n",
              "    <tr>\n",
              "      <th>28</th>\n",
              "      <td>Music</td>\n",
              "      <td>Speech</td>\n",
              "      <td>Crowd</td>\n",
              "      <td>Cheering</td>\n",
              "      <td>Silence</td>\n",
              "    </tr>\n",
              "    <tr>\n",
              "      <th>29</th>\n",
              "      <td>Music</td>\n",
              "      <td>Speech</td>\n",
              "      <td>Silence</td>\n",
              "      <td>Crowd</td>\n",
              "      <td>Cheering</td>\n",
              "    </tr>\n",
              "    <tr>\n",
              "      <th>30</th>\n",
              "      <td>Music</td>\n",
              "      <td>Speech</td>\n",
              "      <td>Silence</td>\n",
              "      <td>Scissors</td>\n",
              "      <td>Crowd</td>\n",
              "    </tr>\n",
              "    <tr>\n",
              "      <th>31</th>\n",
              "      <td>Music</td>\n",
              "      <td>Speech</td>\n",
              "      <td>Musical instrument</td>\n",
              "      <td>Silence</td>\n",
              "      <td>Traditional music</td>\n",
              "    </tr>\n",
              "    <tr>\n",
              "      <th>32</th>\n",
              "      <td>Music</td>\n",
              "      <td>Speech</td>\n",
              "      <td>Silence</td>\n",
              "      <td>Scissors</td>\n",
              "      <td>Vehicle</td>\n",
              "    </tr>\n",
              "    <tr>\n",
              "      <th>33</th>\n",
              "      <td>Music</td>\n",
              "      <td>Speech</td>\n",
              "      <td>Musical instrument</td>\n",
              "      <td>Percussion</td>\n",
              "      <td>Drum</td>\n",
              "    </tr>\n",
              "    <tr>\n",
              "      <th>34</th>\n",
              "      <td>Music</td>\n",
              "      <td>Speech</td>\n",
              "      <td>Percussion</td>\n",
              "      <td>Silence</td>\n",
              "      <td>Musical instrument</td>\n",
              "    </tr>\n",
              "    <tr>\n",
              "      <th>35</th>\n",
              "      <td>Music</td>\n",
              "      <td>Speech</td>\n",
              "      <td>Timpani</td>\n",
              "      <td>Percussion</td>\n",
              "      <td>Musical instrument</td>\n",
              "    </tr>\n",
              "    <tr>\n",
              "      <th>36</th>\n",
              "      <td>Music</td>\n",
              "      <td>Timpani</td>\n",
              "      <td>Speech</td>\n",
              "      <td>Drum</td>\n",
              "      <td>Musical instrument</td>\n",
              "    </tr>\n",
              "    <tr>\n",
              "      <th>37</th>\n",
              "      <td>Music</td>\n",
              "      <td>Speech</td>\n",
              "      <td>Musical instrument</td>\n",
              "      <td>Drum</td>\n",
              "      <td>Timpani</td>\n",
              "    </tr>\n",
              "    <tr>\n",
              "      <th>38</th>\n",
              "      <td>Music</td>\n",
              "      <td>Percussion</td>\n",
              "      <td>Speech</td>\n",
              "      <td>Drum</td>\n",
              "      <td>Wood block</td>\n",
              "    </tr>\n",
              "    <tr>\n",
              "      <th>39</th>\n",
              "      <td>Music</td>\n",
              "      <td>Percussion</td>\n",
              "      <td>Drum</td>\n",
              "      <td>Musical instrument</td>\n",
              "      <td>Speech</td>\n",
              "    </tr>\n",
              "    <tr>\n",
              "      <th>40</th>\n",
              "      <td>Music</td>\n",
              "      <td>Silence</td>\n",
              "      <td>Musical instrument</td>\n",
              "      <td>Speech</td>\n",
              "      <td>Orchestra</td>\n",
              "    </tr>\n",
              "    <tr>\n",
              "      <th>41</th>\n",
              "      <td>Music</td>\n",
              "      <td>Speech</td>\n",
              "      <td>Percussion</td>\n",
              "      <td>Thump, thud</td>\n",
              "      <td>Drum</td>\n",
              "    </tr>\n",
              "    <tr>\n",
              "      <th>42</th>\n",
              "      <td>Music</td>\n",
              "      <td>Speech</td>\n",
              "      <td>Silence</td>\n",
              "      <td>Timpani</td>\n",
              "      <td>Musical instrument</td>\n",
              "    </tr>\n",
              "    <tr>\n",
              "      <th>43</th>\n",
              "      <td>Music</td>\n",
              "      <td>Speech</td>\n",
              "      <td>Musical instrument</td>\n",
              "      <td>Bagpipes</td>\n",
              "      <td>Silence</td>\n",
              "    </tr>\n",
              "    <tr>\n",
              "      <th>44</th>\n",
              "      <td>Music</td>\n",
              "      <td>Orchestra</td>\n",
              "      <td>Timpani</td>\n",
              "      <td>Percussion</td>\n",
              "      <td>Musical instrument</td>\n",
              "    </tr>\n",
              "    <tr>\n",
              "      <th>45</th>\n",
              "      <td>Music</td>\n",
              "      <td>Orchestra</td>\n",
              "      <td>Classical music</td>\n",
              "      <td>Musical instrument</td>\n",
              "      <td>Percussion</td>\n",
              "    </tr>\n",
              "    <tr>\n",
              "      <th>46</th>\n",
              "      <td>Music</td>\n",
              "      <td>Speech</td>\n",
              "      <td>Silence</td>\n",
              "      <td>Crowd</td>\n",
              "      <td>Musical instrument</td>\n",
              "    </tr>\n",
              "    <tr>\n",
              "      <th>47</th>\n",
              "      <td>Speech</td>\n",
              "      <td>Silence</td>\n",
              "      <td>Water</td>\n",
              "      <td>Music</td>\n",
              "      <td>Slosh</td>\n",
              "    </tr>\n",
              "    <tr>\n",
              "      <th>48</th>\n",
              "      <td>Speech</td>\n",
              "      <td>Vehicle</td>\n",
              "      <td>Music</td>\n",
              "      <td>Silence</td>\n",
              "      <td>Boat, Water vehicle</td>\n",
              "    </tr>\n",
              "    <tr>\n",
              "      <th>49</th>\n",
              "      <td>Speech</td>\n",
              "      <td>Silence</td>\n",
              "      <td>Mechanical fan</td>\n",
              "      <td>Vehicle</td>\n",
              "      <td>Music</td>\n",
              "    </tr>\n",
              "    <tr>\n",
              "      <th>50</th>\n",
              "      <td>Vehicle</td>\n",
              "      <td>Motorboat, speedboat</td>\n",
              "      <td>Boat, Water vehicle</td>\n",
              "      <td>Silence</td>\n",
              "      <td>Mechanical fan</td>\n",
              "    </tr>\n",
              "    <tr>\n",
              "      <th>51</th>\n",
              "      <td>Vehicle</td>\n",
              "      <td>Speech</td>\n",
              "      <td>Train</td>\n",
              "      <td>Railroad car, train wagon</td>\n",
              "      <td>Tools</td>\n",
              "    </tr>\n",
              "    <tr>\n",
              "      <th>52</th>\n",
              "      <td>Music</td>\n",
              "      <td>Speech</td>\n",
              "      <td>Caw</td>\n",
              "      <td>Animal</td>\n",
              "      <td>Vehicle</td>\n",
              "    </tr>\n",
              "    <tr>\n",
              "      <th>53</th>\n",
              "      <td>Speech</td>\n",
              "      <td>Music</td>\n",
              "      <td>Silence</td>\n",
              "      <td>Domestic animals, pets</td>\n",
              "      <td>Animal</td>\n",
              "    </tr>\n",
              "    <tr>\n",
              "      <th>54</th>\n",
              "      <td>Vehicle</td>\n",
              "      <td>Music</td>\n",
              "      <td>Speech</td>\n",
              "      <td>Animal</td>\n",
              "      <td>Bird</td>\n",
              "    </tr>\n",
              "    <tr>\n",
              "      <th>55</th>\n",
              "      <td>Speech</td>\n",
              "      <td>Music</td>\n",
              "      <td>Vehicle</td>\n",
              "      <td>Car</td>\n",
              "      <td>Gunshot, gunfire</td>\n",
              "    </tr>\n",
              "  </tbody>\n",
              "</table>\n",
              "</div>\n",
              "      <button class=\"colab-df-convert\" onclick=\"convertToInteractive('df-4e9eccd3-6098-4eaa-bf06-e69a7bea3215')\"\n",
              "              title=\"Convert this dataframe to an interactive table.\"\n",
              "              style=\"display:none;\">\n",
              "        \n",
              "  <svg xmlns=\"http://www.w3.org/2000/svg\" height=\"24px\"viewBox=\"0 0 24 24\"\n",
              "       width=\"24px\">\n",
              "    <path d=\"M0 0h24v24H0V0z\" fill=\"none\"/>\n",
              "    <path d=\"M18.56 5.44l.94 2.06.94-2.06 2.06-.94-2.06-.94-.94-2.06-.94 2.06-2.06.94zm-11 1L8.5 8.5l.94-2.06 2.06-.94-2.06-.94L8.5 2.5l-.94 2.06-2.06.94zm10 10l.94 2.06.94-2.06 2.06-.94-2.06-.94-.94-2.06-.94 2.06-2.06.94z\"/><path d=\"M17.41 7.96l-1.37-1.37c-.4-.4-.92-.59-1.43-.59-.52 0-1.04.2-1.43.59L10.3 9.45l-7.72 7.72c-.78.78-.78 2.05 0 2.83L4 21.41c.39.39.9.59 1.41.59.51 0 1.02-.2 1.41-.59l7.78-7.78 2.81-2.81c.8-.78.8-2.07 0-2.86zM5.41 20L4 18.59l7.72-7.72 1.47 1.35L5.41 20z\"/>\n",
              "  </svg>\n",
              "      </button>\n",
              "      \n",
              "  <style>\n",
              "    .colab-df-container {\n",
              "      display:flex;\n",
              "      flex-wrap:wrap;\n",
              "      gap: 12px;\n",
              "    }\n",
              "\n",
              "    .colab-df-convert {\n",
              "      background-color: #E8F0FE;\n",
              "      border: none;\n",
              "      border-radius: 50%;\n",
              "      cursor: pointer;\n",
              "      display: none;\n",
              "      fill: #1967D2;\n",
              "      height: 32px;\n",
              "      padding: 0 0 0 0;\n",
              "      width: 32px;\n",
              "    }\n",
              "\n",
              "    .colab-df-convert:hover {\n",
              "      background-color: #E2EBFA;\n",
              "      box-shadow: 0px 1px 2px rgba(60, 64, 67, 0.3), 0px 1px 3px 1px rgba(60, 64, 67, 0.15);\n",
              "      fill: #174EA6;\n",
              "    }\n",
              "\n",
              "    [theme=dark] .colab-df-convert {\n",
              "      background-color: #3B4455;\n",
              "      fill: #D2E3FC;\n",
              "    }\n",
              "\n",
              "    [theme=dark] .colab-df-convert:hover {\n",
              "      background-color: #434B5C;\n",
              "      box-shadow: 0px 1px 3px 1px rgba(0, 0, 0, 0.15);\n",
              "      filter: drop-shadow(0px 1px 2px rgba(0, 0, 0, 0.3));\n",
              "      fill: #FFFFFF;\n",
              "    }\n",
              "  </style>\n",
              "\n",
              "      <script>\n",
              "        const buttonEl =\n",
              "          document.querySelector('#df-4e9eccd3-6098-4eaa-bf06-e69a7bea3215 button.colab-df-convert');\n",
              "        buttonEl.style.display =\n",
              "          google.colab.kernel.accessAllowed ? 'block' : 'none';\n",
              "\n",
              "        async function convertToInteractive(key) {\n",
              "          const element = document.querySelector('#df-4e9eccd3-6098-4eaa-bf06-e69a7bea3215');\n",
              "          const dataTable =\n",
              "            await google.colab.kernel.invokeFunction('convertToInteractive',\n",
              "                                                     [key], {});\n",
              "          if (!dataTable) return;\n",
              "\n",
              "          const docLinkHtml = 'Like what you see? Visit the ' +\n",
              "            '<a target=\"_blank\" href=https://colab.research.google.com/notebooks/data_table.ipynb>data table notebook</a>'\n",
              "            + ' to learn more about interactive tables.';\n",
              "          element.innerHTML = '';\n",
              "          dataTable['output_type'] = 'display_data';\n",
              "          await google.colab.output.renderOutput(dataTable, element);\n",
              "          const docLink = document.createElement('div');\n",
              "          docLink.innerHTML = docLinkHtml;\n",
              "          element.appendChild(docLink);\n",
              "        }\n",
              "      </script>\n",
              "    </div>\n",
              "  </div>\n",
              "  "
            ]
          },
          "metadata": {},
          "execution_count": 10
        }
      ]
    },
    {
      "cell_type": "code",
      "source": [
        "vid_id = '91IHQYk1IQM'\n",
        "cap = cv2.VideoCapture(vid_id+'.mp4')\n",
        "fps = cap.get(cv2.CAP_PROP_FPS)\n",
        "print(fps)"
      ],
      "metadata": {
        "colab": {
          "base_uri": "https://localhost:8080/"
        },
        "id": "D2wGhtjoXvM1",
        "outputId": "848eb418-895f-4a58-d977-4acb8e32f37d"
      },
      "execution_count": 11,
      "outputs": [
        {
          "output_type": "stream",
          "name": "stdout",
          "text": [
            "29.97002997002997\n"
          ]
        }
      ]
    },
    {
      "cell_type": "code",
      "source": [
        "anno = pd.read_csv('ydata-tvsum50-anno.tsv', sep='\\t', header=None)\n",
        "vid_anno = anno.loc[anno[0] == vid_id]\n",
        "def annotation_string_to_numerics(vid_anno):\n",
        "  a = lambda x: [int(i) for i in x[1][2].split(',')]\n",
        "  return pd.DataFrame([a(annotation) for annotation in vid_anno.iterrows()])\n",
        "ratings = annotation_string_to_numerics(vid_anno)"
      ],
      "metadata": {
        "id": "F7GynW7vaz04"
      },
      "execution_count": 12,
      "outputs": []
    },
    {
      "cell_type": "code",
      "source": [
        "scaler = 2*fps\n",
        "i_range = range(1,math.ceil(ratings.shape[1]/scaler))\n",
        "def bot_slice(i):\n",
        "  return int(i*scaler)\n",
        "# def top_slice(i):\n",
        "  # return min((i+1)*scaler, ratings.shape[1])\n",
        "\n",
        "abs_scorer = lambda i: sum(abs(ratings[bot_slice(i)] - ratings[bot_slice(i)+1]))\n",
        "abs_score_changes = pd.DataFrame([abs_scorer(i) for i in i_range])\n",
        "abs_score_changes.plot()\n",
        "scorer = lambda i: sum(ratings[bot_slice(i)] - ratings[bot_slice(i)+1])\n",
        "score_changes = pd.DataFrame([scorer(i) for i in i_range])\n",
        "score_changes.plot()"
      ],
      "metadata": {
        "colab": {
          "base_uri": "https://localhost:8080/",
          "height": 530
        },
        "id": "4I3VCFSWchLa",
        "outputId": "416249be-5e9a-43a5-aeed-33c6f38e3522"
      },
      "execution_count": 102,
      "outputs": [
        {
          "output_type": "execute_result",
          "data": {
            "text/plain": [
              "<AxesSubplot:>"
            ]
          },
          "metadata": {},
          "execution_count": 102
        },
        {
          "output_type": "display_data",
          "data": {
            "text/plain": [
              "<Figure size 432x288 with 1 Axes>"
            ],
            "image/png": "[encoded data removed]"
          },
          "metadata": {
            "needs_background": "light"
          }
        },
        {
          "output_type": "display_data",
          "data": {
            "text/plain": [
              "<Figure size 432x288 with 1 Axes>"
            ],
            "image/png": "[encoded data removed]"
          },
          "metadata": {
            "needs_background": "light"
          }
        }
      ]
    },
    {
      "cell_type": "code",
      "source": [
        "a = lambda ind: pd.Series(df.iloc[ind])\n",
        "b = lambda ind: len(a(ind)) - sum([(item in a(ind+1).unique()) for item in a(ind)]) \n",
        "def label_changes(df):\n",
        "  return pd.DataFrame([b(i) for i in range(df.shape[0]-1)])\n",
        "lab_changes = label_changes(df)"
      ],
      "metadata": {
        "id": "b4-rF87xgJUb"
      },
      "execution_count": 56,
      "outputs": []
    },
    {
      "cell_type": "code",
      "source": [
        "lab_changes.plot()"
      ],
      "metadata": {
        "colab": {
          "base_uri": "https://localhost:8080/",
          "height": 282
        },
        "id": "mPy4fcocjeXq",
        "outputId": "135c9853-8de7-4a55-e7f9-92b4ae8a2c1c"
      },
      "execution_count": 57,
      "outputs": [
        {
          "output_type": "execute_result",
          "data": {
            "text/plain": [
              "<AxesSubplot:>"
            ]
          },
          "metadata": {},
          "execution_count": 57
        },
        {
          "output_type": "display_data",
          "data": {
            "text/plain": [
              "<Figure size 432x288 with 1 Axes>"
            ],
            "image/png": "[encoded data removed]"
          },
          "metadata": {
            "needs_background": "light"
          }
        }
      ]
    },
    {
      "cell_type": "code",
      "source": [
        "changes = pd.concat([abs_score_changes, score_changes, lab_changes], axis=1)\n",
        "changes.columns = ['Abs Score','Score','Labels']"
      ],
      "metadata": {
        "id": "uLLBXyUBjwL-"
      },
      "execution_count": 105,
      "outputs": []
    },
    {
      "cell_type": "code",
      "source": [
        "import matplotlib.pyplot as plt\n",
        "\n",
        "ax = changes.plot(y=\"Score\", legend=False)\n",
        "ax2 = ax.twinx()\n",
        "changes.plot(y=\"Labels\", ax=ax2, legend=False, color=\"c\")\n",
        "ax.figure.legend()\n",
        "plt.show()\n",
        "ax = changes.plot(y=\"Abs Score\", legend=False)\n",
        "ax2 = ax.twinx()\n",
        "changes.plot(y=\"Labels\", ax=ax2, legend=False, color=\"c\")\n",
        "ax.figure.legend()\n",
        "plt.show()"
      ],
      "metadata": {
        "colab": {
          "base_uri": "https://localhost:8080/",
          "height": 573
        },
        "id": "E_J4hxRFkfhu",
        "outputId": "4ae6c07f-e7bc-4bac-8b1f-8d675b071865"
      },
      "execution_count": 107,
      "outputs": [
        {
          "output_type": "display_data",
          "data": {
            "text/plain": [
              "<Figure size 432x288 with 2 Axes>"
            ],
            "image/png": "[encoded data removed]"
          },
          "metadata": {
            "needs_background": "light"
          }
        },
        {
          "output_type": "display_data",
          "data": {
            "text/plain": [
              "<Figure size 432x288 with 2 Axes>"
            ],
            "image/png": "[encoded data removed]"
          },
          "metadata": {
            "needs_background": "light"
          }
        }
      ]
    },
    {
      "cell_type": "code",
      "source": [],
      "metadata": {
        "id": "Bq5fXUixpGSV"
      },
      "execution_count": null,
      "outputs": []
    }
  ]
}