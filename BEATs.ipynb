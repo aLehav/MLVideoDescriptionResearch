{
  "nbformat": 4,
  "nbformat_minor": 0,
  "metadata": {
    "colab": {
      "provenance": [],
      "authorship_tag": "ABX9TyM8WXGJ37dOGJauu/hMsC7Q",
      "include_colab_link": true
    },
    "kernelspec": {
      "name": "python3",
      "display_name": "Python 3"
    },
    "language_info": {
      "name": "python"
    }
  },
  "cells": [
    {
      "cell_type": "markdown",
      "metadata": {
        "id": "view-in-github",
        "colab_type": "text"
      },
      "source": [
        "<a href=\"https://colab.research.google.com/github/aLehav/MLVideoDescriptionResearch/blob/main/BEATs.ipynb\" target=\"_parent\"><img src=\"https://colab.research.google.com/assets/colab-badge.svg\" alt=\"Open In Colab\"/></a>"
      ]
    },
    {
      "cell_type": "markdown",
      "source": [
        "[Link to BEATs Github](https://github.com/microsoft/unilm/tree/master/beats)"
      ],
      "metadata": {
        "id": "_y-nwtAKQLbE"
      }
    },
    {
      "cell_type": "code",
      "execution_count": null,
      "metadata": {
        "id": "Kfp6AKZpKzk-"
      },
      "outputs": [],
      "source": [
        "import torch\n",
        "from Tokenizers import TokenizersConfig, Tokenizers\n",
        "from BEATs import BEATs, BEATsConfig\n",
        "\n",
        "\n",
        "# load the pre-trained checkpoints\n",
        "checkpoint = torch.load('/path/to/tokenizer.pt')\n",
        "\n",
        "audio_input_16khz = torch.randn(1, 10000)\n",
        "padding_mask = torch.zeros(1, 10000).bool()\n",
        "\n",
        "# for a tokenizer\n",
        "# cfg = TokenizersConfig(checkpoint['cfg'])\n",
        "# BEATs_tokenizer = Tokenizers(cfg)\n",
        "# BEATs_tokenizer.load_state_dict(checkpoint['model'])\n",
        "# BEATs_tokenizer.eval()\n",
        "\n",
        "# labels = BEATs_tokenizer.extract_labels(audio_input_16khz, padding_mask=padding_mask)\n",
        "\n",
        "\n",
        "#for pretrained\n",
        "# cfg = BEATsConfig(checkpoint['cfg'])\n",
        "# BEATs_model = BEATs(cfg)\n",
        "# BEATs_model.load_state_dict(checkpoint['model'])\n",
        "# BEATs_model.eval()\n",
        "\n",
        "# representation = BEATs_model.extract_features(audio_input_16khz, padding_mask=padding_mask)[0]\n",
        "\n"
      ]
    }
  ]
}